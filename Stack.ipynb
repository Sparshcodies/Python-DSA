{
 "cells": [
  {
   "cell_type": "code",
   "execution_count": 2,
   "metadata": {},
   "outputs": [],
   "source": [
    "class Node():\n",
    "    def __init__(self,value):\n",
    "        self.data = value\n",
    "        self.next = None"
   ]
  },
  {
   "cell_type": "code",
   "execution_count": 3,
   "metadata": {},
   "outputs": [],
   "source": [
    "class Stack():\n",
    "    def __init__(self):\n",
    "        self.top = None\n",
    "        \n",
    "    def is_empty(self):\n",
    "        return self.top == None\n",
    "    \n",
    "    def push(self,value):\n",
    "        new_node = Node(value)\n",
    "        new_node.next = self.top\n",
    "        self.top = new_node\n",
    "        \n",
    "    def traverse(self):\n",
    "        if self.is_empty():\n",
    "            return \"Stack is empty!\"\n",
    "        temp = self.top\n",
    "        while temp != None:\n",
    "            print(temp.data)\n",
    "            temp = temp.next\n",
    "            \n",
    "    def peek(self):\n",
    "        if self.is_empty():\n",
    "            return \"Stack is empty!\"\n",
    "        return self.top.data\n",
    "\n",
    "    def pop(self):\n",
    "        if self.is_empty():\n",
    "            return None\n",
    "        data = self.top.data\n",
    "        self.top = self.top.next\n",
    "        return data\n",
    "    \n",
    "    def size(self):\n",
    "        if self.is_empty():\n",
    "            return 0\n",
    "        temp = self.top\n",
    "        size = 0\n",
    "        while temp!=None:\n",
    "            size+=1\n",
    "            temp = temp.next\n",
    "            \n",
    "        return size"
   ]
  },
  {
   "cell_type": "code",
   "execution_count": 8,
   "metadata": {},
   "outputs": [
    {
     "name": "stdout",
     "output_type": "stream",
     "text": [
      "Stack is empty!\n"
     ]
    }
   ],
   "source": [
    "S = Stack()\n",
    "print(S.traverse())"
   ]
  },
  {
   "cell_type": "code",
   "execution_count": 9,
   "metadata": {},
   "outputs": [],
   "source": [
    "S.push(2)\n",
    "S.push(4)\n",
    "S.push(6)\n",
    "S.push(8)"
   ]
  },
  {
   "cell_type": "code",
   "execution_count": 10,
   "metadata": {},
   "outputs": [
    {
     "data": {
      "text/plain": [
       "8"
      ]
     },
     "execution_count": 10,
     "metadata": {},
     "output_type": "execute_result"
    }
   ],
   "source": [
    "S.peek()"
   ]
  },
  {
   "cell_type": "code",
   "execution_count": 11,
   "metadata": {},
   "outputs": [
    {
     "name": "stdout",
     "output_type": "stream",
     "text": [
      "8\n",
      "6\n",
      "4\n",
      "2\n"
     ]
    }
   ],
   "source": [
    "S.traverse()"
   ]
  },
  {
   "cell_type": "code",
   "execution_count": 20,
   "metadata": {},
   "outputs": [
    {
     "data": {
      "text/plain": [
       "'Stack is empty!'"
      ]
     },
     "execution_count": 20,
     "metadata": {},
     "output_type": "execute_result"
    }
   ],
   "source": [
    "S.pop()"
   ]
  },
  {
   "cell_type": "code",
   "execution_count": 21,
   "metadata": {},
   "outputs": [
    {
     "data": {
      "text/plain": [
       "'Stack is empty!'"
      ]
     },
     "execution_count": 21,
     "metadata": {},
     "output_type": "execute_result"
    }
   ],
   "source": [
    "S.traverse()"
   ]
  },
  {
   "cell_type": "code",
   "execution_count": 22,
   "metadata": {},
   "outputs": [
    {
     "data": {
      "text/plain": [
       "'Stack is empty!'"
      ]
     },
     "execution_count": 22,
     "metadata": {},
     "output_type": "execute_result"
    }
   ],
   "source": [
    "S.peek()"
   ]
  },
  {
   "cell_type": "code",
   "execution_count": 23,
   "metadata": {},
   "outputs": [
    {
     "data": {
      "text/plain": [
       "'Stack is empty!'"
      ]
     },
     "execution_count": 23,
     "metadata": {},
     "output_type": "execute_result"
    }
   ],
   "source": [
    "S.pop()"
   ]
  },
  {
   "cell_type": "code",
   "execution_count": 24,
   "metadata": {},
   "outputs": [
    {
     "data": {
      "text/plain": [
       "True"
      ]
     },
     "execution_count": 24,
     "metadata": {},
     "output_type": "execute_result"
    }
   ],
   "source": [
    "S.is_empty()"
   ]
  },
  {
   "cell_type": "code",
   "execution_count": 8,
   "metadata": {},
   "outputs": [],
   "source": [
    "def reverse_str(text):\n",
    "    S = Stack()\n",
    "    result = \"\"\n",
    "    for i in text:\n",
    "        S.push(i)\n",
    "    while (not S.is_empty()):\n",
    "        result += S.pop()\n",
    "    print(result)"
   ]
  },
  {
   "cell_type": "code",
   "execution_count": 9,
   "metadata": {},
   "outputs": [
    {
     "name": "stdout",
     "output_type": "stream",
     "text": [
      "olleH\n"
     ]
    }
   ],
   "source": [
    "reverse_str(\"Hello\")"
   ]
  },
  {
   "cell_type": "code",
   "execution_count": 15,
   "metadata": {},
   "outputs": [],
   "source": [
    "# Brackets Matching\n",
    "def brackets_matching(str):\n",
    "    S = Stack()\n",
    "    l1 = [\"{\",\"[\",\"(\"]\n",
    "    l2 = [\"}\",\"]\",\")\"]\n",
    "    for i in str:\n",
    "        if i in l1:\n",
    "            S.push(i)\n",
    "        elif i in l2:\n",
    "            if S.is_empty():\n",
    "                return False\n",
    "            top = S.pop()\n",
    "            if l1.index(top) != l2.index(i):\n",
    "                return False\n",
    "    if S.is_empty():\n",
    "        return True\n",
    "    else:\n",
    "        return False"
   ]
  },
  {
   "cell_type": "code",
   "execution_count": 16,
   "metadata": {},
   "outputs": [
    {
     "data": {
      "text/plain": [
       "False"
      ]
     },
     "execution_count": 16,
     "metadata": {},
     "output_type": "execute_result"
    }
   ],
   "source": [
    "brackets_matching(\"}\")"
   ]
  },
  {
   "cell_type": "code",
   "execution_count": 19,
   "metadata": {},
   "outputs": [],
   "source": [
    "def un_redo(text,pattern):\n",
    "    S = Stack()\n",
    "    R = Stack()\n",
    "    result = \"\"\n",
    "    for i in text:\n",
    "        S.push(i)\n",
    "    for i in pattern:\n",
    "        if i == \"u\":\n",
    "            data = S.pop()\n",
    "            if data:\n",
    "                R.push(data)\n",
    "        if i == \"r\":\n",
    "            data = R.pop()\n",
    "            if data:    \n",
    "                S.push(data)\n",
    "    while(not S.is_empty()):\n",
    "        result = S.pop() + result\n",
    "    return result  "
   ]
  },
  {
   "cell_type": "code",
   "execution_count": 20,
   "metadata": {},
   "outputs": [
    {
     "data": {
      "text/plain": [
       "'Hell'"
      ]
     },
     "execution_count": 20,
     "metadata": {},
     "output_type": "execute_result"
    }
   ],
   "source": [
    "un_redo(\"Hello\",\"uuurr\")"
   ]
  },
  {
   "cell_type": "code",
   "execution_count": 23,
   "metadata": {},
   "outputs": [
    {
     "data": {
      "text/plain": [
       "'Madhya Prad'"
      ]
     },
     "execution_count": 23,
     "metadata": {},
     "output_type": "execute_result"
    }
   ],
   "source": [
    "un_redo(\"Madhya Pradesh\", \"uuruuururur\")"
   ]
  },
  {
   "cell_type": "code",
   "execution_count": 29,
   "metadata": {},
   "outputs": [],
   "source": [
    "def is_celeb(mat):\n",
    "    S = Stack()\n",
    "    for i in range(len(mat)):\n",
    "        S.push(i)\n",
    "    \n",
    "    while(S.size() >=2):\n",
    "        i = S.pop()\n",
    "        j = S.pop()\n",
    "        \n",
    "        if (mat[i][j] == 0):\n",
    "            # j is not a celebrity\n",
    "            S.push(i)\n",
    "        else:\n",
    "            # i is not a celebrity\n",
    "            S.push(j)\n",
    "    celeb = S.pop()\n",
    "    for i in range(len(mat)):\n",
    "        if i != celeb:\n",
    "            if L[i][celeb] == 0 or L[celeb][i] == 1:\n",
    "                print(\"No one is a celeb\")\n",
    "                return\n",
    "    print(\"Celebrity is\",celeb)\n",
    "                \n",
    "            "
   ]
  },
  {
   "cell_type": "code",
   "execution_count": 31,
   "metadata": {},
   "outputs": [
    {
     "name": "stdout",
     "output_type": "stream",
     "text": [
      "Celeb is  2\n"
     ]
    }
   ],
   "source": [
    "L = [[0,0,1,1],\n",
    "     [0,0,1,0],\n",
    "     [0,0,0,0],\n",
    "     [0,0,1,0]]\n",
    "is_celeb(L)"
   ]
  },
  {
   "cell_type": "code",
   "execution_count": null,
   "metadata": {},
   "outputs": [],
   "source": []
  }
 ],
 "metadata": {
  "kernelspec": {
   "display_name": "Python 3",
   "language": "python",
   "name": "python3"
  },
  "language_info": {
   "codemirror_mode": {
    "name": "ipython",
    "version": 3
   },
   "file_extension": ".py",
   "mimetype": "text/x-python",
   "name": "python",
   "nbconvert_exporter": "python",
   "pygments_lexer": "ipython3",
   "version": "3.12.4"
  }
 },
 "nbformat": 4,
 "nbformat_minor": 2
}
