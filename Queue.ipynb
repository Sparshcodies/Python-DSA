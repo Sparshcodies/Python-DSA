{
 "cells": [
  {
   "cell_type": "code",
   "execution_count": 1,
   "metadata": {},
   "outputs": [],
   "source": [
    "class Node():\n",
    "    def __init__(self,value):\n",
    "        self.data = value\n",
    "        self.next = None"
   ]
  },
  {
   "cell_type": "code",
   "execution_count": 2,
   "metadata": {},
   "outputs": [],
   "source": [
    "class Queue():\n",
    "    def __init__(self):\n",
    "        self.front = self.rear = None\n",
    "        \n",
    "    def is_empty(self):\n",
    "        return (self.front == None)\n",
    "    \n",
    "    def size(self):\n",
    "        if (self.is_empty()):\n",
    "            return 0\n",
    "        temp = self.front\n",
    "        size = 0\n",
    "        while (temp!=None):\n",
    "            size+=1\n",
    "            temp = temp.next\n",
    "        return size\n",
    "    \n",
    "    def enqueue(self,value):\n",
    "        new_node = Node(value)\n",
    "        if self.rear == None:\n",
    "            self.front = self.rear = new_node\n",
    "        else:\n",
    "            self.rear.next = new_node\n",
    "            self.rear = new_node\n",
    "            \n",
    "    def dequeue(self):\n",
    "        if (self.is_empty()):\n",
    "            return \"Empty Queue\"\n",
    "        self.front = self.front.next\n",
    "        \n",
    "    def traverse(self):\n",
    "        if(not self.is_empty()):     \n",
    "            temp = self.front\n",
    "            while (temp!=None):\n",
    "                print(temp.data,end=\" \")\n",
    "                temp = temp.next\n",
    "        print(\"None\")\n",
    "        "
   ]
  },
  {
   "cell_type": "code",
   "execution_count": 15,
   "metadata": {},
   "outputs": [
    {
     "name": "stdout",
     "output_type": "stream",
     "text": [
      "10 20 None\n"
     ]
    }
   ],
   "source": [
    "q = Queue()\n",
    "q.enqueue(10)\n",
    "q.enqueue(20)\n",
    "q.traverse()"
   ]
  },
  {
   "cell_type": "code",
   "execution_count": 16,
   "metadata": {},
   "outputs": [
    {
     "name": "stdout",
     "output_type": "stream",
     "text": [
      "20 30 None\n"
     ]
    }
   ],
   "source": [
    "q.dequeue()\n",
    "q.enqueue(30)\n",
    "q.traverse()"
   ]
  },
  {
   "cell_type": "code",
   "execution_count": 17,
   "metadata": {},
   "outputs": [
    {
     "data": {
      "text/plain": [
       "2"
      ]
     },
     "execution_count": 17,
     "metadata": {},
     "output_type": "execute_result"
    }
   ],
   "source": [
    "q.size()"
   ]
  }
 ],
 "metadata": {
  "kernelspec": {
   "display_name": "Python 3",
   "language": "python",
   "name": "python3"
  },
  "language_info": {
   "codemirror_mode": {
    "name": "ipython",
    "version": 3
   },
   "file_extension": ".py",
   "mimetype": "text/x-python",
   "name": "python",
   "nbconvert_exporter": "python",
   "pygments_lexer": "ipython3",
   "version": "3.12.4"
  }
 },
 "nbformat": 4,
 "nbformat_minor": 2
}
