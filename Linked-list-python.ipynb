{
 "cells": [
  {
   "cell_type": "code",
   "execution_count": 1,
   "metadata": {},
   "outputs": [],
   "source": [
    "class Node():\n",
    "    def __init__(self,data):\n",
    "        self.data = data\n",
    "        self.next = None"
   ]
  },
  {
   "cell_type": "code",
   "execution_count": 2,
   "metadata": {},
   "outputs": [],
   "source": [
    "a = Node(10)\n",
    "b = Node(20)\n",
    "c = Node(30)"
   ]
  },
  {
   "cell_type": "code",
   "execution_count": 3,
   "metadata": {},
   "outputs": [
    {
     "name": "stdout",
     "output_type": "stream",
     "text": [
      "1347901661328 1347901659552 1347901662048\n"
     ]
    }
   ],
   "source": [
    "print(id(a),id(b),id(c))"
   ]
  },
  {
   "cell_type": "code",
   "execution_count": 4,
   "metadata": {},
   "outputs": [
    {
     "name": "stdout",
     "output_type": "stream",
     "text": [
      "10\n"
     ]
    }
   ],
   "source": [
    "print(a.data)"
   ]
  },
  {
   "cell_type": "code",
   "execution_count": 5,
   "metadata": {},
   "outputs": [
    {
     "name": "stdout",
     "output_type": "stream",
     "text": [
      "None\n"
     ]
    }
   ],
   "source": [
    "print(a.next)"
   ]
  },
  {
   "cell_type": "code",
   "execution_count": 6,
   "metadata": {},
   "outputs": [],
   "source": [
    "# Building connection\n",
    "# a->b->c->None\n",
    "a.next = b\n",
    "b.next = c"
   ]
  },
  {
   "cell_type": "code",
   "execution_count": 7,
   "metadata": {},
   "outputs": [],
   "source": [
    "class Node():\n",
    "    def __init__(self,data):\n",
    "        self.data = data\n",
    "        self.next = None"
   ]
  },
  {
   "cell_type": "code",
   "execution_count": 46,
   "metadata": {},
   "outputs": [],
   "source": [
    "class LinkedList():\n",
    "\n",
    "    def __init__(self):\n",
    "        # Empty list\n",
    "        self.head = None\n",
    "        self.n = 0\n",
    "    \n",
    "    def __len__(self):\n",
    "        return self.n\n",
    "    \n",
    "    def insert_head(self,data):\n",
    "        new_node = Node(data)\n",
    "        new_node.next = self.head\n",
    "        self.head = new_node\n",
    "        self.n+=1\n",
    "        \n",
    "    def insert_tail(self,data):\n",
    "        new_node = Node(data)\n",
    "        current = self.head\n",
    "        if current != None:\n",
    "            while(current.next!=None):\n",
    "                current = current.next\n",
    "            current.next = new_node\n",
    "        else:\n",
    "            self.head = new_node\n",
    "            new_node.next = None\n",
    "        self.n+=1\n",
    "            \n",
    "    def insert_after(self, reference, data):\n",
    "        new_node = Node(data)\n",
    "        current = self.head\n",
    "        while(current.data != None):\n",
    "            if current.data == reference:\n",
    "                break\n",
    "            current = current.next\n",
    "        \n",
    "        # Case 1 \n",
    "        if current!=None:\n",
    "            new_node.next = current.next\n",
    "            current.next = new_node\n",
    "            self.n+=1\n",
    "        else:\n",
    "            return \"Item Not found\"\n",
    "        \n",
    "    def traverse(self):\n",
    "        current = self.head\n",
    "        while (current!=None): \n",
    "            print(str(current.data) + \" -> \",sep = \"\", end=\"\")\n",
    "            current = current.next\n",
    "        print(\"None\")\n",
    "        \n",
    "    def clear(self):\n",
    "        self.head = None\n",
    "        self.n = 0\n",
    "        \n",
    "    def clear_head(self):\n",
    "        if self.head != None:\n",
    "            self.head = self.head.next\n",
    "            self.n -= 1\n",
    "        else:\n",
    "            return \"Empty LL\"\n",
    "        \n",
    "    def clear_tail(self): \n",
    "        if self.head == None:\n",
    "            return \"Empty LL\"\n",
    "        current = self.head\n",
    "        if current.next == None:\n",
    "            return self.clear_head()\n",
    "        while current.next.next != None:\n",
    "            current = current.next\n",
    "        current.next = None\n",
    "        self.n -= 1\n",
    "        \n",
    "    def clear_item(self, item):\n",
    "        current = self.head\n",
    "        if current == None:\n",
    "            return \"Empty LL\"\n",
    "        if current.data == item:\n",
    "            return self.clear_head()\n",
    "        else:\n",
    "            while current.next != None:\n",
    "                if current.next.data == item:\n",
    "                    current.next = current.next.next\n",
    "                    self.n -= 1\n",
    "                    break\n",
    "                current = current.next\n",
    "            if current.next == None:\n",
    "                return \"Not Found\"\n",
    "            \n",
    "    # Search by value\n",
    "    def search(self, value):\n",
    "        current = self.head\n",
    "        pos = 0\n",
    "        if current == None:\n",
    "            return \"Empty LL\"\n",
    "        while(current.next!= None):\n",
    "            if current.data == value:\n",
    "                return pos\n",
    "            pos+=1\n",
    "            current = current.next\n",
    "        return \"Not Found\"\n",
    "    \n",
    "    # Search by index L[0]\n",
    "    def __getitem__(self, index):\n",
    "        current = self.head\n",
    "        pos = 0\n",
    "        while(pos != index):\n",
    "            if current.next == None:\n",
    "                return \"Index out of range\"\n",
    "            current = current.next\n",
    "            pos += 1\n",
    "        return current.data\n",
    "            \n",
    "        \n",
    "        \n",
    "    # Delete by index   del L[0]\n",
    "    \n",
    "    \n",
    "    \n"
   ]
  },
  {
   "cell_type": "code",
   "execution_count": 47,
   "metadata": {},
   "outputs": [
    {
     "name": "stdout",
     "output_type": "stream",
     "text": [
      "30 -> 25 -> 20 -> 15 -> 10 -> 5 -> 0 -> None\n"
     ]
    }
   ],
   "source": [
    "L = LinkedList()\n",
    "L.insert_head(10)\n",
    "L.insert_head(20)\n",
    "L.insert_head(30)\n",
    "L.insert_after(20,15)\n",
    "L.insert_after(30,25)\n",
    "L.insert_tail(5)\n",
    "L.insert_tail(0)\n",
    "L.traverse()"
   ]
  },
  {
   "cell_type": "code",
   "execution_count": 10,
   "metadata": {},
   "outputs": [
    {
     "data": {
      "text/plain": [
       "7"
      ]
     },
     "execution_count": 10,
     "metadata": {},
     "output_type": "execute_result"
    }
   ],
   "source": [
    "len(L)"
   ]
  },
  {
   "cell_type": "code",
   "execution_count": 11,
   "metadata": {},
   "outputs": [
    {
     "name": "stdout",
     "output_type": "stream",
     "text": [
      "None\n"
     ]
    }
   ],
   "source": [
    "L.clear()\n",
    "L.traverse()"
   ]
  },
  {
   "cell_type": "code",
   "execution_count": 25,
   "metadata": {},
   "outputs": [
    {
     "name": "stdout",
     "output_type": "stream",
     "text": [
      "20 -> 10 -> None\n"
     ]
    }
   ],
   "source": [
    "L.insert_head(10)\n",
    "L.insert_head(20)\n",
    "L.insert_head(30)\n",
    "L.traverse()"
   ]
  },
  {
   "cell_type": "code",
   "execution_count": 24,
   "metadata": {},
   "outputs": [
    {
     "name": "stdout",
     "output_type": "stream",
     "text": [
      "None\n"
     ]
    }
   ],
   "source": [
    "L.clear_head()\n",
    "L.traverse()"
   ]
  },
  {
   "cell_type": "code",
   "execution_count": 30,
   "metadata": {},
   "outputs": [
    {
     "name": "stdout",
     "output_type": "stream",
     "text": [
      "10 -> 5 -> 10 -> 15 -> None\n"
     ]
    }
   ],
   "source": [
    "L.insert_tail(5)\n",
    "L.insert_tail(10)\n",
    "L.insert_tail(15)\n",
    "L.traverse()"
   ]
  },
  {
   "cell_type": "code",
   "execution_count": 32,
   "metadata": {},
   "outputs": [
    {
     "name": "stdout",
     "output_type": "stream",
     "text": [
      "10 -> 5 -> None\n"
     ]
    }
   ],
   "source": [
    "L.clear_tail()\n",
    "L.traverse()"
   ]
  },
  {
   "cell_type": "code",
   "execution_count": 33,
   "metadata": {},
   "outputs": [
    {
     "name": "stdout",
     "output_type": "stream",
     "text": [
      "30 -> 20 -> 10 -> 10 -> 5 -> None\n"
     ]
    }
   ],
   "source": [
    "L.insert_head(10)\n",
    "L.insert_head(20)\n",
    "L.insert_head(30)\n",
    "L.traverse()"
   ]
  },
  {
   "cell_type": "code",
   "execution_count": 43,
   "metadata": {},
   "outputs": [
    {
     "name": "stdout",
     "output_type": "stream",
     "text": [
      "None\n",
      "30 -> 25 -> 15 -> 10 -> 5 -> 0 -> None\n"
     ]
    }
   ],
   "source": [
    "print(L.clear_item(20))\n",
    "L.traverse()"
   ]
  },
  {
   "cell_type": "code",
   "execution_count": 45,
   "metadata": {},
   "outputs": [
    {
     "name": "stdout",
     "output_type": "stream",
     "text": [
      "3\n"
     ]
    }
   ],
   "source": [
    "print(L.search(10))"
   ]
  },
  {
   "cell_type": "code",
   "execution_count": 48,
   "metadata": {},
   "outputs": [
    {
     "name": "stdout",
     "output_type": "stream",
     "text": [
      "30 -> 25 -> 20 -> 15 -> 10 -> 5 -> 0 -> None\n"
     ]
    }
   ],
   "source": [
    "L.traverse()"
   ]
  },
  {
   "cell_type": "code",
   "execution_count": 51,
   "metadata": {},
   "outputs": [
    {
     "name": "stdout",
     "output_type": "stream",
     "text": [
      "0\n"
     ]
    }
   ],
   "source": [
    "print(L[6])"
   ]
  },
  {
   "cell_type": "code",
   "execution_count": null,
   "metadata": {},
   "outputs": [],
   "source": []
  }
 ],
 "metadata": {
  "kernelspec": {
   "display_name": "Python 3",
   "language": "python",
   "name": "python3"
  },
  "language_info": {
   "codemirror_mode": {
    "name": "ipython",
    "version": 3
   },
   "file_extension": ".py",
   "mimetype": "text/x-python",
   "name": "python",
   "nbconvert_exporter": "python",
   "pygments_lexer": "ipython3",
   "version": "3.12.4"
  }
 },
 "nbformat": 4,
 "nbformat_minor": 2
}
