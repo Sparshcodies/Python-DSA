{
 "cells": [
  {
   "cell_type": "code",
   "execution_count": 62,
   "metadata": {},
   "outputs": [],
   "source": [
    "class Dictionary():\n",
    "    def __init__(self, size):\n",
    "        self.size = size\n",
    "        self.key = [None] * self.size\n",
    "        self.value = [None] * self.size\n",
    "        \n",
    "    def __setitem__(self, key, value):\n",
    "        self.put(key,value)\n",
    "        \n",
    "    def __getitem__(self, key):\n",
    "        return self.get(key)\n",
    "    \n",
    "    def __str__(self):\n",
    "        string = \"\"\n",
    "        for i in range(len(self.key)):\n",
    "            if self.key[i] != None:\n",
    "                string += str(self.key[i]) + \" : \" + str(self.value[i]) +\"\\n\"\n",
    "                # result += str(self.key[i]) + \":\" + str(self.value[i]) + \"\\\\\"\n",
    "        return string\n",
    "    def hash_function(self,key):\n",
    "        return abs(hash(key)) % self.size\n",
    "    \n",
    "    def rehash(self,key):\n",
    "        return (self.hash_function(key) + 1) % self.size\n",
    "    \n",
    "    def put(self,key,value):\n",
    "        hash_value = self.hash_function(key)\n",
    "        \n",
    "        if self.key[hash_value] == None:\n",
    "            self.key[hash_value] = key\n",
    "            self.value[hash_value] = value\n",
    "        \n",
    "        else:\n",
    "            if self.key[hash_value] == key:\n",
    "                self.value[hash_value] = value\n",
    "            \n",
    "            else:\n",
    "                while self.key[hash_value] != key or self.key[hash_value] != None:\n",
    "                    hash_value = self.rehash(hash_value)\n",
    "                \n",
    "                if self.key[hash_value] != key:\n",
    "                    self.value[hash_value] = value\n",
    "                    \n",
    "                else:\n",
    "                    self.key[hash_value] = key\n",
    "                    self.value[hash_value] = value\n",
    "    \n",
    "    def get(self, key):\n",
    "        hash_value = self.hash_function(key)    \n",
    "        current_value = hash_value\n",
    "        while(self.key[hash_value] != None):\n",
    "            if self.key[hash_value] == key:\n",
    "                return self.value[hash_value]\n",
    "            else:\n",
    "                hash_value = self.rehash(hash_value)\n",
    "                if hash_value == current_value:\n",
    "                    return \"Not found\"\n",
    "            \n",
    "        return \"Not found\"\n",
    "        "
   ]
  },
  {
   "cell_type": "code",
   "execution_count": 63,
   "metadata": {},
   "outputs": [],
   "source": [
    "D = Dictionary(3)"
   ]
  },
  {
   "cell_type": "code",
   "execution_count": 64,
   "metadata": {},
   "outputs": [
    {
     "name": "stdout",
     "output_type": "stream",
     "text": [
      "[None, None, None]\n",
      "[None, None, None]\n"
     ]
    }
   ],
   "source": [
    "print(D.key)\n",
    "print(D.value)"
   ]
  },
  {
   "cell_type": "code",
   "execution_count": 65,
   "metadata": {},
   "outputs": [],
   "source": [
    "D[\"python\"] = 10\n",
    "D[\"java\"] = 20\n",
    "D[\"C++\"] = 30"
   ]
  },
  {
   "cell_type": "code",
   "execution_count": 66,
   "metadata": {},
   "outputs": [
    {
     "name": "stdout",
     "output_type": "stream",
     "text": [
      "['java', 'C++', 'python']\n",
      "[20, 30, 10]\n"
     ]
    }
   ],
   "source": [
    "print(D.key)\n",
    "print(D.value)"
   ]
  },
  {
   "cell_type": "code",
   "execution_count": 67,
   "metadata": {},
   "outputs": [
    {
     "name": "stdout",
     "output_type": "stream",
     "text": [
      "java : 20\n",
      "C++ : 30\n",
      "python : 10\n",
      "\n"
     ]
    }
   ],
   "source": [
    "print(D)"
   ]
  },
  {
   "cell_type": "code",
   "execution_count": 31,
   "metadata": {},
   "outputs": [
    {
     "data": {
      "text/plain": [
       "10"
      ]
     },
     "execution_count": 31,
     "metadata": {},
     "output_type": "execute_result"
    }
   ],
   "source": [
    "D[\"python\"]"
   ]
  },
  {
   "cell_type": "code",
   "execution_count": 32,
   "metadata": {},
   "outputs": [
    {
     "data": {
      "text/plain": [
       "'Not found'"
      ]
     },
     "execution_count": 32,
     "metadata": {},
     "output_type": "execute_result"
    }
   ],
   "source": [
    "D[\"C\"]"
   ]
  },
  {
   "cell_type": "code",
   "execution_count": 33,
   "metadata": {},
   "outputs": [
    {
     "name": "stdout",
     "output_type": "stream",
     "text": [
      "\n"
     ]
    }
   ],
   "source": [
    "print(D)"
   ]
  },
  {
   "cell_type": "code",
   "execution_count": 68,
   "metadata": {},
   "outputs": [
    {
     "ename": "TypeError",
     "evalue": "unhashable type: 'list'",
     "output_type": "error",
     "traceback": [
      "\u001b[1;31m---------------------------------------------------------------------------\u001b[0m",
      "\u001b[1;31mTypeError\u001b[0m                                 Traceback (most recent call last)",
      "Cell \u001b[1;32mIn[68], line 2\u001b[0m\n\u001b[0;32m      1\u001b[0m D2 \u001b[38;5;241m=\u001b[39m {}\n\u001b[1;32m----> 2\u001b[0m \u001b[43mD2\u001b[49m\u001b[43m[\u001b[49m\u001b[43m[\u001b[49m\u001b[38;5;241;43m1\u001b[39;49m\u001b[43m,\u001b[49m\u001b[38;5;241;43m2\u001b[39;49m\u001b[43m,\u001b[49m\u001b[38;5;241;43m3\u001b[39;49m\u001b[43m]\u001b[49m\u001b[43m \u001b[49m\u001b[43m:\u001b[49m\u001b[43m \u001b[49m\u001b[38;5;124;43m\"\u001b[39;49m\u001b[38;5;124;43mHello\u001b[39;49m\u001b[38;5;124;43m\"\u001b[39;49m\u001b[43m]\u001b[49m\n",
      "\u001b[1;31mTypeError\u001b[0m: unhashable type: 'list'"
     ]
    }
   ],
   "source": [
    "D2 = {}\n",
    "D2[[1,2,3] : \"Hello\"]"
   ]
  },
  {
   "cell_type": "code",
   "execution_count": 69,
   "metadata": {},
   "outputs": [
    {
     "ename": "TypeError",
     "evalue": "unhashable type: 'list'",
     "output_type": "error",
     "traceback": [
      "\u001b[1;31m---------------------------------------------------------------------------\u001b[0m",
      "\u001b[1;31mTypeError\u001b[0m                                 Traceback (most recent call last)",
      "Cell \u001b[1;32mIn[69], line 1\u001b[0m\n\u001b[1;32m----> 1\u001b[0m \u001b[43mD\u001b[49m\u001b[43m[\u001b[49m\u001b[43m[\u001b[49m\u001b[38;5;241;43m1\u001b[39;49m\u001b[43m,\u001b[49m\u001b[38;5;241;43m2\u001b[39;49m\u001b[43m,\u001b[49m\u001b[38;5;241;43m3\u001b[39;49m\u001b[43m]\u001b[49m\u001b[43m]\u001b[49m \u001b[38;5;241m=\u001b[39m \u001b[38;5;124m\"\u001b[39m\u001b[38;5;124mHello\u001b[39m\u001b[38;5;124m\"\u001b[39m\n",
      "Cell \u001b[1;32mIn[62], line 8\u001b[0m, in \u001b[0;36mDictionary.__setitem__\u001b[1;34m(self, key, value)\u001b[0m\n\u001b[0;32m      7\u001b[0m \u001b[38;5;28;01mdef\u001b[39;00m \u001b[38;5;21m__setitem__\u001b[39m(\u001b[38;5;28mself\u001b[39m, key, value):\n\u001b[1;32m----> 8\u001b[0m     \u001b[38;5;28;43mself\u001b[39;49m\u001b[38;5;241;43m.\u001b[39;49m\u001b[43mput\u001b[49m\u001b[43m(\u001b[49m\u001b[43mkey\u001b[49m\u001b[43m,\u001b[49m\u001b[43mvalue\u001b[49m\u001b[43m)\u001b[49m\n",
      "Cell \u001b[1;32mIn[62], line 27\u001b[0m, in \u001b[0;36mDictionary.put\u001b[1;34m(self, key, value)\u001b[0m\n\u001b[0;32m     26\u001b[0m \u001b[38;5;28;01mdef\u001b[39;00m \u001b[38;5;21mput\u001b[39m(\u001b[38;5;28mself\u001b[39m,key,value):\n\u001b[1;32m---> 27\u001b[0m     hash_value \u001b[38;5;241m=\u001b[39m \u001b[38;5;28;43mself\u001b[39;49m\u001b[38;5;241;43m.\u001b[39;49m\u001b[43mhash_function\u001b[49m\u001b[43m(\u001b[49m\u001b[43mkey\u001b[49m\u001b[43m)\u001b[49m\n\u001b[0;32m     29\u001b[0m     \u001b[38;5;28;01mif\u001b[39;00m \u001b[38;5;28mself\u001b[39m\u001b[38;5;241m.\u001b[39mkey[hash_value] \u001b[38;5;241m==\u001b[39m \u001b[38;5;28;01mNone\u001b[39;00m:\n\u001b[0;32m     30\u001b[0m         \u001b[38;5;28mself\u001b[39m\u001b[38;5;241m.\u001b[39mkey[hash_value] \u001b[38;5;241m=\u001b[39m key\n",
      "Cell \u001b[1;32mIn[62], line 21\u001b[0m, in \u001b[0;36mDictionary.hash_function\u001b[1;34m(self, key)\u001b[0m\n\u001b[0;32m     20\u001b[0m \u001b[38;5;28;01mdef\u001b[39;00m \u001b[38;5;21mhash_function\u001b[39m(\u001b[38;5;28mself\u001b[39m,key):\n\u001b[1;32m---> 21\u001b[0m     \u001b[38;5;28;01mreturn\u001b[39;00m \u001b[38;5;28mabs\u001b[39m(\u001b[38;5;28;43mhash\u001b[39;49m\u001b[43m(\u001b[49m\u001b[43mkey\u001b[49m\u001b[43m)\u001b[49m) \u001b[38;5;241m%\u001b[39m \u001b[38;5;28mself\u001b[39m\u001b[38;5;241m.\u001b[39msize\n",
      "\u001b[1;31mTypeError\u001b[0m: unhashable type: 'list'"
     ]
    }
   ],
   "source": [
    "D[[1,2,3]] = \"Hello\""
   ]
  },
  {
   "cell_type": "code",
   "execution_count": null,
   "metadata": {},
   "outputs": [],
   "source": []
  }
 ],
 "metadata": {
  "kernelspec": {
   "display_name": "Python 3",
   "language": "python",
   "name": "python3"
  },
  "language_info": {
   "codemirror_mode": {
    "name": "ipython",
    "version": 3
   },
   "file_extension": ".py",
   "mimetype": "text/x-python",
   "name": "python",
   "nbconvert_exporter": "python",
   "pygments_lexer": "ipython3",
   "version": "3.12.4"
  }
 },
 "nbformat": 4,
 "nbformat_minor": 2
}
