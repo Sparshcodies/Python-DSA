{
 "cells": [
  {
   "cell_type": "markdown",
   "metadata": {},
   "source": [
    "## Types of Searching algorithms\n",
    "\n",
    "1. Linear Search\n",
    "2. Binary search\n"
   ]
  },
  {
   "cell_type": "code",
   "execution_count": null,
   "metadata": {},
   "outputs": [],
   "source": [
    "# Linear Search\n",
    "def linearSearch(arr,item):\n",
    "    for i in range(len(arr)):\n",
    "        if arr[i] == item:\n",
    "            return i\n",
    "    return -1"
   ]
  },
  {
   "cell_type": "code",
   "execution_count": 31,
   "metadata": {},
   "outputs": [
    {
     "data": {
      "text/plain": [
       "10"
      ]
     },
     "execution_count": 31,
     "metadata": {},
     "output_type": "execute_result"
    }
   ],
   "source": [
    "l = [10,36,71,38,741,13,355,344,14,46,24,522,6,3,2,74,7]\n",
    "linearSearch(l,24)\n",
    "\n",
    "# Time complexity = O(n)\n",
    "# No sorting required"
   ]
  },
  {
   "cell_type": "code",
   "execution_count": 24,
   "metadata": {},
   "outputs": [],
   "source": [
    "# Binary Search (works only on sorted array)\n",
    "\n",
    "def binarySearch(arr,low,high,item):\n",
    "    if low<=high:\n",
    "        #search\n",
    "        mid = (low + high)//2\n",
    "        if arr[mid] == item:\n",
    "            return mid\n",
    "        elif arr[mid] > item:\n",
    "            return binarySearch(arr,low,mid-1,item)\n",
    "        else:\n",
    "            return binarySearch(arr,mid+1,high,item)\n",
    "    else:\n",
    "        return -1"
   ]
  },
  {
   "cell_type": "code",
   "execution_count": 26,
   "metadata": {},
   "outputs": [
    {
     "name": "stdout",
     "output_type": "stream",
     "text": [
      "7\n"
     ]
    }
   ],
   "source": [
    "arr = [10,20,30,40,50,60,70,80,90,100]\n",
    "print(binarySearch(arr,0,len(l)-1,80))\n",
    "\n",
    "# Time Complextity = O(nlogn)"
   ]
  },
  {
   "cell_type": "markdown",
   "metadata": {},
   "source": [
    "# Types of Search\n",
    "3. Sleep sort\n",
    "4. Monkey Sort\n",
    "5. Bubble Sort\n",
    "6. Selection Sort\n",
    "7. Merge Sort\n",
    "8. Quick Sort\n",
    "9. Insertion Sort"
   ]
  },
  {
   "cell_type": "code",
   "execution_count": 27,
   "metadata": {},
   "outputs": [],
   "source": [
    "def is_sorted(arr):\n",
    "    for i in range(len(arr)-1):\n",
    "        if arr[i]>arr[i+1]:\n",
    "            sorted = False\n",
    "            return False\n",
    "    else:\n",
    "        return True"
   ]
  },
  {
   "cell_type": "code",
   "execution_count": 28,
   "metadata": {},
   "outputs": [
    {
     "data": {
      "text/plain": [
       "True"
      ]
     },
     "execution_count": 28,
     "metadata": {},
     "output_type": "execute_result"
    }
   ],
   "source": [
    "is_sorted(arr)"
   ]
  },
  {
   "cell_type": "code",
   "execution_count": 33,
   "metadata": {},
   "outputs": [
    {
     "data": {
      "text/plain": [
       "False"
      ]
     },
     "execution_count": 33,
     "metadata": {},
     "output_type": "execute_result"
    }
   ],
   "source": [
    "is_sorted(l)"
   ]
  },
  {
   "cell_type": "code",
   "execution_count": 37,
   "metadata": {},
   "outputs": [],
   "source": [
    "# Monkey Sort\n",
    "import random\n",
    "def monkeySort(arr):\n",
    "    while not is_sorted(arr):\n",
    "        random.shuffle(arr)\n",
    "        print(arr)\n",
    "    return arr"
   ]
  },
  {
   "cell_type": "code",
   "execution_count": 38,
   "metadata": {},
   "outputs": [
    {
     "name": "stdout",
     "output_type": "stream",
     "text": [
      "[10, 50, 20, 40, 30]\n",
      "[30, 50, 40, 10, 20]\n",
      "[50, 20, 10, 40, 30]\n",
      "[10, 50, 40, 20, 30]\n",
      "[20, 50, 40, 10, 30]\n",
      "[10, 30, 20, 50, 40]\n",
      "[50, 40, 10, 20, 30]\n",
      "[40, 50, 20, 10, 30]\n",
      "[20, 40, 30, 10, 50]\n",
      "[30, 40, 20, 50, 10]\n",
      "[40, 20, 10, 50, 30]\n",
      "[30, 10, 40, 20, 50]\n",
      "[20, 10, 40, 30, 50]\n",
      "[30, 40, 50, 20, 10]\n",
      "[40, 30, 20, 10, 50]\n",
      "[20, 30, 40, 50, 10]\n",
      "[10, 30, 20, 50, 40]\n",
      "[50, 10, 40, 20, 30]\n",
      "[10, 50, 20, 30, 40]\n",
      "[20, 10, 40, 30, 50]\n",
      "[10, 40, 30, 50, 20]\n",
      "[40, 10, 30, 50, 20]\n",
      "[20, 40, 50, 30, 10]\n",
      "[40, 10, 50, 20, 30]\n",
      "[50, 10, 40, 20, 30]\n",
      "[20, 40, 50, 10, 30]\n",
      "[10, 50, 30, 40, 20]\n",
      "[20, 10, 50, 40, 30]\n",
      "[50, 40, 20, 10, 30]\n",
      "[10, 50, 20, 30, 40]\n",
      "[40, 10, 30, 50, 20]\n",
      "[50, 30, 40, 20, 10]\n",
      "[10, 20, 30, 50, 40]\n",
      "[30, 50, 20, 10, 40]\n",
      "[10, 50, 40, 30, 20]\n",
      "[10, 20, 40, 50, 30]\n",
      "[10, 40, 20, 30, 50]\n",
      "[20, 30, 10, 40, 50]\n",
      "[10, 50, 20, 40, 30]\n",
      "[50, 10, 40, 20, 30]\n",
      "[10, 40, 50, 30, 20]\n",
      "[50, 40, 30, 10, 20]\n",
      "[10, 40, 30, 50, 20]\n",
      "[40, 20, 10, 30, 50]\n",
      "[10, 40, 30, 20, 50]\n",
      "[10, 20, 50, 40, 30]\n",
      "[30, 50, 20, 10, 40]\n",
      "[10, 40, 30, 20, 50]\n",
      "[20, 40, 30, 50, 10]\n",
      "[20, 10, 50, 40, 30]\n",
      "[50, 10, 40, 20, 30]\n",
      "[40, 30, 20, 10, 50]\n",
      "[20, 50, 40, 30, 10]\n",
      "[50, 20, 10, 40, 30]\n",
      "[30, 10, 40, 50, 20]\n",
      "[40, 10, 20, 50, 30]\n",
      "[30, 50, 20, 10, 40]\n",
      "[20, 50, 40, 10, 30]\n",
      "[10, 50, 30, 40, 20]\n",
      "[50, 40, 20, 30, 10]\n",
      "[20, 30, 50, 10, 40]\n",
      "[40, 30, 10, 20, 50]\n",
      "[30, 50, 20, 10, 40]\n",
      "[10, 40, 50, 30, 20]\n",
      "[10, 50, 40, 20, 30]\n",
      "[50, 40, 30, 20, 10]\n",
      "[40, 30, 20, 50, 10]\n",
      "[20, 40, 50, 10, 30]\n",
      "[50, 40, 20, 30, 10]\n",
      "[50, 10, 20, 30, 40]\n",
      "[20, 10, 30, 50, 40]\n",
      "[20, 10, 30, 50, 40]\n",
      "[20, 30, 40, 50, 10]\n",
      "[10, 40, 30, 20, 50]\n",
      "[10, 50, 20, 40, 30]\n",
      "[30, 20, 50, 40, 10]\n",
      "[40, 10, 30, 50, 20]\n",
      "[50, 20, 10, 30, 40]\n",
      "[20, 50, 40, 10, 30]\n",
      "[30, 50, 20, 10, 40]\n",
      "[50, 20, 30, 40, 10]\n",
      "[50, 30, 20, 40, 10]\n",
      "[10, 20, 50, 30, 40]\n",
      "[40, 20, 30, 50, 10]\n",
      "[20, 50, 40, 10, 30]\n",
      "[50, 20, 10, 30, 40]\n",
      "[30, 50, 10, 40, 20]\n",
      "[50, 20, 40, 30, 10]\n",
      "[50, 30, 40, 20, 10]\n",
      "[20, 30, 10, 50, 40]\n",
      "[50, 40, 10, 30, 20]\n",
      "[10, 20, 50, 30, 40]\n",
      "[20, 10, 40, 30, 50]\n",
      "[50, 40, 30, 10, 20]\n",
      "[10, 30, 50, 20, 40]\n",
      "[50, 20, 40, 30, 10]\n",
      "[40, 20, 50, 10, 30]\n",
      "[40, 50, 10, 20, 30]\n",
      "[10, 50, 30, 20, 40]\n",
      "[10, 30, 20, 50, 40]\n",
      "[40, 30, 50, 10, 20]\n",
      "[30, 50, 20, 10, 40]\n",
      "[40, 20, 10, 50, 30]\n",
      "[20, 30, 10, 50, 40]\n",
      "[30, 40, 50, 10, 20]\n",
      "[40, 50, 30, 10, 20]\n",
      "[10, 40, 50, 20, 30]\n",
      "[40, 50, 20, 30, 10]\n",
      "[30, 50, 40, 20, 10]\n",
      "[10, 40, 50, 30, 20]\n",
      "[40, 10, 20, 30, 50]\n",
      "[20, 50, 40, 10, 30]\n",
      "[40, 50, 30, 10, 20]\n",
      "[40, 20, 10, 50, 30]\n",
      "[20, 10, 50, 30, 40]\n",
      "[50, 20, 30, 10, 40]\n",
      "[30, 50, 10, 20, 40]\n",
      "[50, 20, 40, 10, 30]\n",
      "[30, 10, 40, 20, 50]\n",
      "[10, 30, 50, 20, 40]\n",
      "[50, 30, 20, 40, 10]\n",
      "[30, 10, 50, 20, 40]\n",
      "[50, 30, 10, 40, 20]\n",
      "[20, 50, 30, 40, 10]\n",
      "[30, 40, 50, 10, 20]\n",
      "[30, 20, 50, 10, 40]\n",
      "[40, 50, 20, 10, 30]\n",
      "[20, 50, 40, 30, 10]\n",
      "[30, 20, 10, 50, 40]\n",
      "[10, 50, 40, 30, 20]\n",
      "[10, 40, 50, 30, 20]\n",
      "[30, 50, 10, 20, 40]\n",
      "[50, 10, 30, 20, 40]\n",
      "[20, 30, 10, 40, 50]\n",
      "[50, 10, 30, 40, 20]\n",
      "[20, 30, 40, 50, 10]\n",
      "[50, 10, 30, 40, 20]\n",
      "[20, 10, 50, 30, 40]\n",
      "[40, 10, 30, 50, 20]\n",
      "[40, 30, 20, 10, 50]\n",
      "[20, 40, 50, 10, 30]\n",
      "[20, 10, 50, 30, 40]\n",
      "[40, 20, 10, 50, 30]\n",
      "[10, 40, 50, 20, 30]\n",
      "[20, 40, 50, 30, 10]\n",
      "[30, 10, 50, 20, 40]\n",
      "[30, 20, 40, 50, 10]\n",
      "[50, 40, 10, 30, 20]\n",
      "[20, 50, 30, 10, 40]\n",
      "[40, 20, 30, 10, 50]\n",
      "[30, 10, 20, 40, 50]\n",
      "[10, 30, 20, 40, 50]\n",
      "[30, 20, 50, 40, 10]\n",
      "[50, 20, 40, 10, 30]\n",
      "[10, 50, 20, 30, 40]\n",
      "[10, 30, 20, 50, 40]\n",
      "[30, 20, 40, 50, 10]\n",
      "[30, 50, 10, 40, 20]\n",
      "[10, 30, 40, 50, 20]\n",
      "[20, 10, 30, 40, 50]\n",
      "[20, 50, 30, 40, 10]\n",
      "[40, 30, 50, 20, 10]\n",
      "[20, 30, 50, 10, 40]\n",
      "[50, 30, 10, 40, 20]\n",
      "[10, 40, 30, 50, 20]\n",
      "[50, 30, 20, 10, 40]\n",
      "[40, 20, 10, 30, 50]\n",
      "[20, 30, 10, 40, 50]\n",
      "[40, 30, 10, 20, 50]\n",
      "[10, 30, 40, 20, 50]\n",
      "[40, 20, 50, 10, 30]\n",
      "[10, 50, 20, 40, 30]\n",
      "[30, 10, 20, 40, 50]\n",
      "[40, 30, 20, 50, 10]\n",
      "[10, 20, 30, 40, 50]\n"
     ]
    }
   ],
   "source": [
    "arr = [10,50,20,40,30]\n",
    "arr = monkeySort(arr)\n",
    "\n",
    "# Time Complexity = O(infinity)"
   ]
  },
  {
   "cell_type": "code",
   "execution_count": 39,
   "metadata": {},
   "outputs": [],
   "source": [
    "# Sleep sort\n",
    "# Bhai ye mazak h isko seriously mat lena\n",
    "# (Its a joke dont take it seriously)"
   ]
  },
  {
   "cell_type": "code",
   "execution_count": 41,
   "metadata": {},
   "outputs": [],
   "source": [
    "# Bubble Sort\n",
    "def bubbleSort(arr):\n",
    "    for i in range(len(arr) - 1):\n",
    "        flag = 0\n",
    "        for j in range(len(arr) - 1 - i):\n",
    "            if arr[j] > arr[j+1]:\n",
    "                arr[j], arr[j+1] = arr[j+1], arr[j]\n",
    "                flag = 1\n",
    "        if flag == 0:\n",
    "            break\n",
    "    return arr\n",
    "        "
   ]
  },
  {
   "cell_type": "code",
   "execution_count": 44,
   "metadata": {},
   "outputs": [
    {
     "name": "stdout",
     "output_type": "stream",
     "text": [
      "[1, 3, 4, 5, 7, 10]\n"
     ]
    }
   ],
   "source": [
    "l = [10,7,4,3,5,1]\n",
    "l=bubbleSort(l)\n",
    "print(l)\n",
    "\n",
    "# Time Complexity = O(n^2)\n",
    "# Space Complexity = O(1)\n",
    "# Best case = O(n) when array is already sorted\n",
    "# Adaptive and Stable"
   ]
  },
  {
   "cell_type": "code",
   "execution_count": 48,
   "metadata": {},
   "outputs": [],
   "source": [
    "def selectionSort(arr):\n",
    "    for i in range(len(arr)-1):\n",
    "        min = i\n",
    "        for j in range(i+1, len(arr)):\n",
    "            if arr[j] < arr[min]:\n",
    "                min = j\n",
    "        arr[i],arr[min] = arr[min],arr[i]\n",
    "    return arr\n",
    "                "
   ]
  },
  {
   "cell_type": "code",
   "execution_count": 49,
   "metadata": {},
   "outputs": [
    {
     "name": "stdout",
     "output_type": "stream",
     "text": [
      "[1, 3, 4, 5, 7, 10]\n"
     ]
    }
   ],
   "source": [
    "l = [10,7,4,3,5,1]\n",
    "l = selectionSort(l)\n",
    "print(l)\n",
    "\n",
    "# Time Complexity = O(n^2)\n",
    "# Space Complexity = O(1)\n",
    "# Selection sort is faster than bubble sort due to less number of swaps\n",
    "# Not adaptive neither stable"
   ]
  },
  {
   "cell_type": "code",
   "execution_count": 50,
   "metadata": {},
   "outputs": [],
   "source": [
    "# Merge Sort\n",
    "def mergeSorted(arr1,arr2):\n",
    "    i = j = 0\n",
    "    merged = []\n",
    "    while i < len(arr1) and j < len(arr2):\n",
    "        if arr1[i] < arr2[j]:\n",
    "            merged.append(arr1[i])\n",
    "            i += 1\n",
    "        else:\n",
    "            merged.append(arr2[j])\n",
    "            j += 1\n",
    "    while i < len(arr1):\n",
    "        merged.append(arr1[i])\n",
    "        i += 1\n",
    "    while j < len(arr2):\n",
    "        merged.append(arr2[j])\n",
    "        j += 1\n",
    "    \n",
    "    return merged\n",
    "    "
   ]
  },
  {
   "cell_type": "code",
   "execution_count": 51,
   "metadata": {},
   "outputs": [],
   "source": [
    "def mergeSort(arr):\n",
    "    if len(arr) == 1:\n",
    "        return arr\n",
    "    else:\n",
    "        mid = len(arr)//2\n",
    "        left = mergeSort(arr[:mid])\n",
    "        right = mergeSort(arr[mid:])\n",
    "        return mergeSorted(left, right)"
   ]
  },
  {
   "cell_type": "code",
   "execution_count": 54,
   "metadata": {},
   "outputs": [
    {
     "name": "stdout",
     "output_type": "stream",
     "text": [
      "[1, 2, 3, 4, 5, 6, 7, 8, 9, 10]\n"
     ]
    }
   ],
   "source": [
    "L = [1, 4, 10, 9, 7, 8, 6, 5, 3, 2]\n",
    "print(mergeSort(L))\n",
    "\n",
    "# Time Complexity = O(n logn)\n",
    "# Space Complexity = O(n)\n",
    "# Not Adaptive \n",
    "# Is stable (good for him)"
   ]
  },
  {
   "cell_type": "code",
   "execution_count": null,
   "metadata": {},
   "outputs": [],
   "source": []
  }
 ],
 "metadata": {
  "kernelspec": {
   "display_name": "Python 3",
   "language": "python",
   "name": "python3"
  },
  "language_info": {
   "codemirror_mode": {
    "name": "ipython",
    "version": 3
   },
   "file_extension": ".py",
   "mimetype": "text/x-python",
   "name": "python",
   "nbconvert_exporter": "python",
   "pygments_lexer": "ipython3",
   "version": "3.12.4"
  }
 },
 "nbformat": 4,
 "nbformat_minor": 2
}
