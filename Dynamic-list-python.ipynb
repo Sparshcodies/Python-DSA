{
 "cells": [
  {
   "cell_type": "markdown",
   "metadata": {},
   "source": [
    "## Python List - Referential / Dynamic array"
   ]
  },
  {
   "cell_type": "code",
   "execution_count": null,
   "metadata": {},
   "outputs": [],
   "source": [
    "import sys"
   ]
  },
  {
   "cell_type": "code",
   "execution_count": null,
   "metadata": {},
   "outputs": [],
   "source": [
    "L = []\n",
    "sys.getsizeof(L)"
   ]
  },
  {
   "cell_type": "code",
   "execution_count": null,
   "metadata": {},
   "outputs": [],
   "source": [
    "L.append(\"Sparsh\")\n",
    "sys.getsizeof(L)"
   ]
  },
  {
   "cell_type": "code",
   "execution_count": null,
   "metadata": {},
   "outputs": [],
   "source": [
    "L = []\n",
    "for i in range(100):\n",
    "    print(i,sys.getsizeof(L))\n",
    "    L.append(i)"
   ]
  },
  {
   "cell_type": "markdown",
   "metadata": {},
   "source": [
    "## Creating DS by using ctypes"
   ]
  },
  {
   "cell_type": "code",
   "execution_count": null,
   "metadata": {},
   "outputs": [],
   "source": [
    "import ctypes"
   ]
  },
  {
   "cell_type": "code",
   "execution_count": null,
   "metadata": {},
   "outputs": [],
   "source": [
    "class List:\n",
    "    def __init__(self):\n",
    "        self.size = 1\n",
    "        self.n = 0\n",
    "        # Create a C type array with size = self.size\n",
    "        self.A = self.__make_array(self.size)\n",
    "    \n",
    "    def __make_array(self, capacity):\n",
    "        # Create a C type array(static,referential) with size capacity\n",
    "        return (capacity*ctypes.py_object)()\n",
    "    \n",
    "    def __len__(self):\n",
    "        # Return the number of elements by len()\n",
    "        return self.n\n",
    "    \n",
    "    def __str__(self):\n",
    "        # Return a string representation of the array using print() function\n",
    "        result = \"\"\n",
    "        for i in range(self.n):\n",
    "            result = result + str(self.A[i])  + \",\"\n",
    "        return \"[\" + result[:-1] + \"]\"\n",
    "            \n",
    "    def __getitem__(self, index):\n",
    "        # Get the element at a given index\n",
    "        if 0<=index<=self.n:\n",
    "            return self.A[index]\n",
    "        else:\n",
    "            return \"List out of Index\"\n",
    "        \n",
    "    def __delitem__(self, index):\n",
    "        # Delete by index\n",
    "        if 0<= index < self.n:\n",
    "            for i in range(index,self.n):\n",
    "                self.A[i] = self.A[i+1]\n",
    "            \n",
    "            self.n = self.n - 1\n",
    "        else:\n",
    "            pass\n",
    "        \n",
    "    def pop(self):\n",
    "        # Pop the element at last position\n",
    "        if 0<=self.n:\n",
    "            print(\"Popped\", self.A[self.n-1])\n",
    "            self.n -= 1\n",
    "        else:\n",
    "            print(\"List is empty\")\n",
    "            \n",
    "    def clear(self):\n",
    "        # Clear all items from the list\n",
    "        self.n = 0\n",
    "        self.size = 1\n",
    "    \n",
    "    def find(self, item):\n",
    "        # Finds the index of first occurrence of element\n",
    "        for i in range(self.n):\n",
    "            if i == item:\n",
    "                return i \n",
    "        return \"Not Found\"       \n",
    "        \n",
    "    def append(self, item):\n",
    "        # Appends a new item to the end of the array\n",
    "        if self.size == self.n:\n",
    "            # resize\n",
    "            self.__resize__(self.size*2)\n",
    "        \n",
    "        # append\n",
    "        self.A[self.n] = item\n",
    "        self.n+=1\n",
    "        \n",
    "    def insert(self, index, item):\n",
    "        # Insert a element at specified index\n",
    "        if 0<=index<self.n:\n",
    "            if self.n == self.size:\n",
    "                self.__resize__(self.size*2)\n",
    "            \n",
    "            if i in range(self.n,index,-1):\n",
    "                self.A[i] = self.A[i-1]\n",
    "            self.A[index] = item\n",
    "            self.n+=1\n",
    "        else:\n",
    "            return \"IndexError\"\n",
    "        \n",
    "    def remove(self, item):\n",
    "        pos = self.find(item)\n",
    "        if type(pos) == int:\n",
    "            self.__delitem__(self.A[pos])\n",
    "        else:\n",
    "            print(pos)\n",
    "    \n",
    "    def __resize__(self, new_size):\n",
    "        # Create new array with new capacity\n",
    "        B = self.__make_array(new_size)\n",
    "        self.size = new_size\n",
    "        # Copy the content of A into B\n",
    "        for i in range(self.n):\n",
    "            B[i] = self.A[i]\n",
    "        # reassign A\n",
    "        self.A = B\n",
    "            "
   ]
  },
  {
   "cell_type": "code",
   "execution_count": null,
   "metadata": {},
   "outputs": [],
   "source": [
    "L = List()"
   ]
  },
  {
   "cell_type": "markdown",
   "metadata": {},
   "source": [
    "### Lenght function len()"
   ]
  },
  {
   "cell_type": "code",
   "execution_count": null,
   "metadata": {},
   "outputs": [],
   "source": [
    "print(len(L))"
   ]
  },
  {
   "cell_type": "markdown",
   "metadata": {},
   "source": [
    "### Append function"
   ]
  },
  {
   "cell_type": "code",
   "execution_count": null,
   "metadata": {},
   "outputs": [],
   "source": [
    "L.append(2)\n",
    "L.append(4)\n",
    "L.append(8)"
   ]
  },
  {
   "cell_type": "code",
   "execution_count": null,
   "metadata": {},
   "outputs": [],
   "source": [
    "print(len(L))"
   ]
  },
  {
   "cell_type": "markdown",
   "metadata": {},
   "source": [
    "### Print function"
   ]
  },
  {
   "cell_type": "code",
   "execution_count": null,
   "metadata": {},
   "outputs": [],
   "source": [
    "print(L)"
   ]
  },
  {
   "cell_type": "markdown",
   "metadata": {},
   "source": [
    "### Indexing"
   ]
  },
  {
   "cell_type": "code",
   "execution_count": null,
   "metadata": {},
   "outputs": [],
   "source": [
    "print(L[0])"
   ]
  },
  {
   "cell_type": "markdown",
   "metadata": {},
   "source": [
    "### Pop function"
   ]
  },
  {
   "cell_type": "code",
   "execution_count": null,
   "metadata": {},
   "outputs": [],
   "source": [
    "L.pop()\n",
    "print(L)"
   ]
  },
  {
   "cell_type": "markdown",
   "metadata": {},
   "source": [
    "### Clear function"
   ]
  },
  {
   "cell_type": "code",
   "execution_count": null,
   "metadata": {},
   "outputs": [],
   "source": [
    "L.clear()\n",
    "print(L)"
   ]
  },
  {
   "cell_type": "markdown",
   "metadata": {},
   "source": [
    "### Find/Index function"
   ]
  },
  {
   "cell_type": "code",
   "execution_count": null,
   "metadata": {},
   "outputs": [],
   "source": [
    "L.append(3.4)\n",
    "L.append(\"hello\")\n",
    "L.append(\"5\")"
   ]
  },
  {
   "cell_type": "code",
   "execution_count": null,
   "metadata": {},
   "outputs": [],
   "source": [
    "print(L)"
   ]
  },
  {
   "cell_type": "code",
   "execution_count": null,
   "metadata": {},
   "outputs": [],
   "source": [
    "print(L.find(3))"
   ]
  },
  {
   "cell_type": "markdown",
   "metadata": {},
   "source": [
    "### Delete function"
   ]
  },
  {
   "cell_type": "code",
   "execution_count": null,
   "metadata": {},
   "outputs": [],
   "source": [
    "del L[0]"
   ]
  },
  {
   "cell_type": "markdown",
   "metadata": {},
   "source": [
    "### Insert function"
   ]
  },
  {
   "cell_type": "code",
   "execution_count": null,
   "metadata": {},
   "outputs": [],
   "source": [
    "L.insert(1,\"hello\")"
   ]
  },
  {
   "cell_type": "code",
   "execution_count": null,
   "metadata": {},
   "outputs": [],
   "source": [
    "print(L)"
   ]
  },
  {
   "cell_type": "markdown",
   "metadata": {},
   "source": [
    "### Remove function"
   ]
  },
  {
   "cell_type": "code",
   "execution_count": null,
   "metadata": {},
   "outputs": [],
   "source": []
  },
  {
   "cell_type": "markdown",
   "metadata": {},
   "source": [
    "#### To do: \n",
    "Sort/Min/Max/sum \n",
    "Extend\n",
    "Negative Indexing\n",
    "Slicing\n",
    "Merge"
   ]
  },
  {
   "cell_type": "code",
   "execution_count": null,
   "metadata": {},
   "outputs": [],
   "source": []
  }
 ],
 "metadata": {
  "kernelspec": {
   "display_name": "Python 3",
   "language": "python",
   "name": "python3"
  },
  "language_info": {
   "codemirror_mode": {
    "name": "ipython",
    "version": 3
   },
   "file_extension": ".py",
   "mimetype": "text/x-python",
   "name": "python",
   "nbconvert_exporter": "python",
   "pygments_lexer": "ipython3",
   "version": "3.12.4"
  }
 },
 "nbformat": 4,
 "nbformat_minor": 2
}
