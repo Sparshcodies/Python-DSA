{
 "cells": [
  {
   "cell_type": "code",
   "execution_count": 2,
   "metadata": {},
   "outputs": [],
   "source": [
    "l = [1,2,3,4,5]"
   ]
  },
  {
   "cell_type": "code",
   "execution_count": 4,
   "metadata": {},
   "outputs": [
    {
     "name": "stdout",
     "output_type": "stream",
     "text": [
      "15\n",
      "120\n"
     ]
    }
   ],
   "source": [
    "# Q-1\n",
    "sum = 0\n",
    "for i in l:\n",
    "    sum = sum+i\n",
    "print(sum)\n",
    "\n",
    "product = 1\n",
    "for i in l:\n",
    "    product = product*i\n",
    "print(product)\n",
    "\n",
    "# Linear O(n)"
   ]
  },
  {
   "cell_type": "code",
   "execution_count": 6,
   "metadata": {},
   "outputs": [
    {
     "name": "stdout",
     "output_type": "stream",
     "text": [
      "(1,1)\n",
      "(1,2)\n",
      "(1,3)\n",
      "(1,4)\n",
      "(1,5)\n",
      "(2,1)\n",
      "(2,2)\n",
      "(2,3)\n",
      "(2,4)\n",
      "(2,5)\n",
      "(3,1)\n",
      "(3,2)\n",
      "(3,3)\n",
      "(3,4)\n",
      "(3,5)\n",
      "(4,1)\n",
      "(4,2)\n",
      "(4,3)\n",
      "(4,4)\n",
      "(4,5)\n",
      "(5,1)\n",
      "(5,2)\n",
      "(5,3)\n",
      "(5,4)\n",
      "(5,5)\n"
     ]
    }
   ],
   "source": [
    "# Q-2\n",
    "for i in l:\n",
    "    for j in l:\n",
    "        print(\"({},{})\".format(i, j))\n",
    "# O(n²)"
   ]
  },
  {
   "cell_type": "code",
   "execution_count": 7,
   "metadata": {},
   "outputs": [],
   "source": [
    "# Q-3\n",
    "# Linear search\n",
    "# Liner O(n)"
   ]
  },
  {
   "cell_type": "code",
   "execution_count": 10,
   "metadata": {},
   "outputs": [],
   "source": [
    "# Q-4\n",
    "def intToStr(i):\n",
    "    digits = \"0123456789\"\n",
    "    if i ==0:\n",
    "        return \"0\"\n",
    "    result = \"\"\n",
    "    while i>0:\n",
    "        result = digits[i%10] + result\n",
    "        i = i//10\n",
    "    return result"
   ]
  },
  {
   "cell_type": "code",
   "execution_count": 16,
   "metadata": {},
   "outputs": [
    {
     "data": {
      "text/plain": [
       "'234'"
      ]
     },
     "execution_count": 16,
     "metadata": {},
     "output_type": "execute_result"
    }
   ],
   "source": [
    "intToStr(234)"
   ]
  },
  {
   "cell_type": "code",
   "execution_count": 17,
   "metadata": {},
   "outputs": [
    {
     "name": "stdout",
     "output_type": "stream",
     "text": [
      "(1,2)\n",
      "(1,3)\n",
      "(1,4)\n",
      "(1,5)\n",
      "(2,3)\n",
      "(2,4)\n",
      "(2,5)\n",
      "(3,4)\n",
      "(3,5)\n",
      "(4,5)\n"
     ]
    }
   ],
   "source": [
    "for i in range(0,len(l)):\n",
    "    for j in range(i+1,len(l)):\n",
    "        print(\"({},{})\".format(l[i],l[j]))"
   ]
  },
  {
   "cell_type": "code",
   "execution_count": 18,
   "metadata": {},
   "outputs": [
    {
     "name": "stdout",
     "output_type": "stream",
     "text": [
      "(1,2)\n",
      "(1,3)\n",
      "(1,4)\n",
      "(1,5)\n",
      "(1,6)\n",
      "(2,3)\n",
      "(2,4)\n",
      "(2,5)\n",
      "(2,6)\n",
      "(3,4)\n",
      "(3,5)\n",
      "(3,6)\n",
      "(4,5)\n",
      "(4,6)\n"
     ]
    }
   ],
   "source": [
    "A = [1,2,3,4]\n",
    "B = [2,3,4,5,6]\n",
    "\n",
    "for i in A:\n",
    "    for j in B:\n",
    "        if i<j:\n",
    "            print(\"({},{})\".format(i,j))"
   ]
  },
  {
   "cell_type": "code",
   "execution_count": null,
   "metadata": {},
   "outputs": [],
   "source": []
  }
 ],
 "metadata": {
  "kernelspec": {
   "display_name": "Python 3",
   "language": "python",
   "name": "python3"
  },
  "language_info": {
   "codemirror_mode": {
    "name": "ipython",
    "version": 3
   },
   "file_extension": ".py",
   "mimetype": "text/x-python",
   "name": "python",
   "nbconvert_exporter": "python",
   "pygments_lexer": "ipython3",
   "version": "3.12.4"
  }
 },
 "nbformat": 4,
 "nbformat_minor": 2
}
