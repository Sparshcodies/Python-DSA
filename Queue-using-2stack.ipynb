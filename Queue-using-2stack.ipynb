{
 "cells": [
  {
   "cell_type": "code",
   "execution_count": 5,
   "metadata": {},
   "outputs": [],
   "source": [
    "class Node():\n",
    "    def __init__(self, data):\n",
    "        self.data = data\n",
    "        self.next = None"
   ]
  },
  {
   "cell_type": "code",
   "execution_count": 2,
   "metadata": {},
   "outputs": [],
   "source": [
    "# Queue by using 2 stacks \n",
    "class Stack():\n",
    "    def __init__(self):\n",
    "        self.top = None\n",
    "        \n",
    "    def is_empty(self):\n",
    "        return self.top == None\n",
    "    \n",
    "    def push(self,value):\n",
    "        new_node = Node(value)\n",
    "        new_node.next = self.top\n",
    "        self.top = new_node\n",
    "        \n",
    "    def traverse(self):\n",
    "        if self.is_empty():\n",
    "            return \"Stack is empty!\"\n",
    "        temp = self.top\n",
    "        while temp != None:\n",
    "            print(temp.data)\n",
    "            temp = temp.next\n",
    "            \n",
    "    def peek(self):\n",
    "        if self.is_empty():\n",
    "            return \"Stack is empty!\"\n",
    "        return self.top.data\n",
    "\n",
    "    def pop(self):\n",
    "        if self.is_empty():\n",
    "            return None\n",
    "        data = self.top.data\n",
    "        self.top = self.top.next\n",
    "        return data\n",
    "    \n",
    "    def size(self):\n",
    "        if self.is_empty():\n",
    "            return 0\n",
    "        temp = self.top\n",
    "        size = 0\n",
    "        while temp!=None:\n",
    "            size+=1\n",
    "            temp = temp.next\n",
    "            \n",
    "        return size"
   ]
  },
  {
   "cell_type": "code",
   "execution_count": 3,
   "metadata": {},
   "outputs": [],
   "source": [
    "class QueueUsingStack():\n",
    "    def __init__(self):\n",
    "        self.S1 = Stack()\n",
    "        self.S2 = Stack()\n",
    "        # self.front = None\n",
    "        # self.rear = None\n",
    "        \n",
    "    def enqueue(self,value):\n",
    "        self.S1.push(value)\n",
    "        \n",
    "        \n",
    "    def dequeue(self):\n",
    "        if self.S2.is_empty():\n",
    "            if self.S1.is_empty():\n",
    "                return \"Queue is empty!\"\n",
    "            while (not self.S1.is_empty()):\n",
    "                self.S2.push(self.S1.pop())\n",
    "        return self.S2.pop()\n",
    "    \n",
    "    def is_empty(self):\n",
    "        if self.S2.is_empty() and self.S1.is_empty():\n",
    "            return True\n",
    "        else:\n",
    "            return False\n",
    "        \n",
    "    def traverse(self):\n",
    "        if self.S2.is_empty():\n",
    "            if self.S1.is_empty():\n",
    "                return \"Queue is empty!\"\n",
    "        while(not self.S1.is_empty()):\n",
    "            self.S2.push(self.S1.pop())\n",
    "        self.S2.traverse()"
   ]
  },
  {
   "cell_type": "code",
   "execution_count": 6,
   "metadata": {},
   "outputs": [
    {
     "name": "stdout",
     "output_type": "stream",
     "text": [
      "1\n",
      "2\n",
      "3\n"
     ]
    }
   ],
   "source": [
    "Q = QueueUsingStack()\n",
    "Q.enqueue(1)\n",
    "Q.enqueue(2)\n",
    "Q.enqueue(3)\n",
    "Q.traverse()"
   ]
  },
  {
   "cell_type": "code",
   "execution_count": 7,
   "metadata": {},
   "outputs": [
    {
     "name": "stdout",
     "output_type": "stream",
     "text": [
      "1\n",
      "2\n",
      "3\n"
     ]
    }
   ],
   "source": [
    "for i in range(3):\n",
    "    print(Q.dequeue())"
   ]
  },
  {
   "cell_type": "code",
   "execution_count": 8,
   "metadata": {},
   "outputs": [
    {
     "data": {
      "text/plain": [
       "'Queue is empty!'"
      ]
     },
     "execution_count": 8,
     "metadata": {},
     "output_type": "execute_result"
    }
   ],
   "source": [
    "Q.traverse()"
   ]
  },
  {
   "cell_type": "code",
   "execution_count": 10,
   "metadata": {},
   "outputs": [
    {
     "data": {
      "text/plain": [
       "'Queue is empty!'"
      ]
     },
     "execution_count": 10,
     "metadata": {},
     "output_type": "execute_result"
    }
   ],
   "source": [
    "Q.dequeue()"
   ]
  },
  {
   "cell_type": "code",
   "execution_count": null,
   "metadata": {},
   "outputs": [],
   "source": []
  }
 ],
 "metadata": {
  "kernelspec": {
   "display_name": "Python 3",
   "language": "python",
   "name": "python3"
  },
  "language_info": {
   "codemirror_mode": {
    "name": "ipython",
    "version": 3
   },
   "file_extension": ".py",
   "mimetype": "text/x-python",
   "name": "python",
   "nbconvert_exporter": "python",
   "pygments_lexer": "ipython3",
   "version": "3.12.4"
  }
 },
 "nbformat": 4,
 "nbformat_minor": 2
}
